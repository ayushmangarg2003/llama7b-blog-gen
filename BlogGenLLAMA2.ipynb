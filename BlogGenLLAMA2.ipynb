{
  "nbformat": 4,
  "nbformat_minor": 0,
  "metadata": {
    "colab": {
      "provenance": [],
      "authorship_tag": "ABX9TyMf724hV5L7xrgvARh19J1t",
      "include_colab_link": true
    },
    "kernelspec": {
      "name": "python3",
      "display_name": "Python 3"
    },
    "language_info": {
      "name": "python"
    }
  },
  "cells": [
    {
      "cell_type": "markdown",
      "metadata": {
        "id": "view-in-github",
        "colab_type": "text"
      },
      "source": [
        "<a href=\"https://colab.research.google.com/github/ayushmangarg2003/llama7b-chat/blob/main/BlogGenLLAMA2.ipynb\" target=\"_parent\"><img src=\"https://colab.research.google.com/assets/colab-badge.svg\" alt=\"Open In Colab\"/></a>"
      ]
    },
    {
      "cell_type": "code",
      "execution_count": null,
      "metadata": {
        "id": "iIQ-qhluK71A"
      },
      "outputs": [],
      "source": [
        "!pip install streamlit\n",
        "!pip install langchain"
      ]
    },
    {
      "cell_type": "code",
      "source": [
        "import streamlit as st\n",
        "from langchain.prompts import PromptTemplate\n",
        "from langchain.llms import CTransformers"
      ],
      "metadata": {
        "id": "Gae9Cch_LHH3"
      },
      "execution_count": 21,
      "outputs": []
    },
    {
      "cell_type": "code",
      "source": [
        "def getLlamaResponse(input_text,no_words,blog_style):\n",
        "  llm = CTransformers(model='/llama-2-7b-chat.ggmlv3.q8_0.bin',model_type='llama',config={\n",
        "      'max_new_tokens':256,\n",
        "      'temperature':0.01\n",
        "  })\n",
        "  #Template\n",
        "  template = f\"Write a Blog for {blog_style} job profile for a topic {input_text} within {no_words} words.\"\n",
        "\n",
        "  #Prompt\n",
        "  prompt = PromptTemplate(input_variable=[\"style\",\"text\",\"n_words\"],\n",
        "                          template=template)\n",
        "\n",
        "  #Getting Response from LLAMA\n",
        "  response = llm(prompt.format(style=blog_style,text=input_text,n_words=no_words ))\n",
        "\n",
        "  print(response)\n",
        "  return response"
      ],
      "metadata": {
        "id": "3o8xn3e1LIBU"
      },
      "execution_count": 22,
      "outputs": []
    },
    {
      "cell_type": "code",
      "source": [
        "getLlamaResponse(\"Researcher\",\"Large Language Model\",200)"
      ],
      "metadata": {
        "id": "xa5sU4ZILIKi"
      },
      "execution_count": null,
      "outputs": []
    }
  ]
}